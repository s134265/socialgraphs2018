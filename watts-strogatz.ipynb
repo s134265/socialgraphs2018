{
 "cells": [
  {
   "cell_type": "markdown",
   "metadata": {},
   "source": [
    "# Part One: Network Models "
   ]
  },
  {
   "cell_type": "markdown",
   "metadata": {},
   "source": [
    "# 1. Watts-strogatz Networks"
   ]
  },
  {
   "cell_type": "markdown",
   "metadata": {},
   "source": [
    "- Use nx.watts_strogatz_graph to generate 3 graphs with 500 nodes each, average degree = 4, and rewiring probablity $p = 0, 0.1, \\textrm{and} 1$. Calculate the average shortest path length $\\langle d \\rangle$ for each one. Describe what happens to the network when $p = 1$."
   ]
  },
  {
   "cell_type": "code",
   "execution_count": 11,
   "metadata": {},
   "outputs": [
    {
     "name": "stdout",
     "output_type": "stream",
     "text": [
      "Average shortest path length  for p=0 is: 62.875751503\n",
      "Average shortest path length  for p=0.1 is: 7.79241683367\n",
      "Average shortest path length  for p=1 is: 4.73185571142\n"
     ]
    }
   ],
   "source": [
    "import networkx as nx\n",
    "import matplotlib.pyplot as plt\n",
    "import numpy as np\n",
    "\n",
    "#Creates an empty list p, which is going to contain the different graphs\n",
    "p = []\n",
    "\n",
    "#Sets the values of p in a list.\n",
    "pval = [0, 0.1, 1]\n",
    "\n",
    "#runs through all values of p, creating one graph for each and prints the average shortest path length for that give graph.\n",
    "for x in range (0,len(pval)):\n",
    "    p.insert(len(p),nx.watts_strogatz_graph(500, 4, pval[x]))\n",
    "    print('Average shortest path length  for p=' + str(pval[x]) + ' is: ' + str(nx.average_shortest_path_length(p[x])))\n",
    "\n"
   ]
  },
  {
   "cell_type": "markdown",
   "metadata": {},
   "source": [
    "In the above data it can be seen that the average shortest path length decreases, as the probability increases. \n",
    "This makes sense since a higher probability will provide more links in the graph and therefore make paths shorter.\n",
    "\n",
    "- Let's understand the behavior of the WS model as we increase p in more detail.. Generate 50 networks with $N = 500$, $\\langle k \\rangle = 4$, for each of $p = \\{0, 0.01, 0.03, 0.05, 0.1, 0.2\\}$. Calculate the average of $\\langle d \\rangle$ as well as the standard deviation over the 50 networks, to create a plot that shows how the path length decreases very quickly with only a little fraction of re-wiring. Use the standard deviation to add errorbars to the plot. My version of the plot is below (since a picture's worth 1000 words)."
   ]
  },
  {
   "cell_type": "code",
   "execution_count": 12,
   "metadata": {},
   "outputs": [],
   "source": [
    "#Create a list with all p values\n",
    "pval = [0, 0.01, 0.03, 0.05, 0.1, 0.2]\n",
    "\n",
    "#Creates empty lists which are going to contain the standard deviation, sum of average shortest path length for each p\n",
    "pstd = []\n",
    "psum = []\n",
    "\n",
    "#p is being used as a place holder for the average shortest path length of the 50 graphs for each value of p.\n",
    "p = []\n",
    "\n",
    "# this loop runs through all values in pval\n",
    "for y in range (0, len(pval)):\n",
    "    #This loop calculates the average shortest path length for 50 graphs, using the given p value\n",
    "    for x in range (0,50):\n",
    "        p.insert(len(p), nx.average_shortest_path_length(nx.watts_strogatz_graph(500, 4, pval[y])))\n",
    "    #After 50 average short path lengths has been calculated, the standard deviation and the sum of these lengths are calculated.\n",
    "    #p is reset in order to have an empty list for the 50 graphs of the next p value.\n",
    "    pstd.insert(len(pstd), np.std(p))\n",
    "    psum.insert(len(p), sum(p)/50)\n",
    "    p = []"
   ]
  },
  {
   "cell_type": "code",
   "execution_count": 24,
   "metadata": {},
   "outputs": [
    {
     "data": {
      "image/png": "[encoded data removed]",
      "text/plain": [
       "<Figure size 1080x720 with 1 Axes>"
      ]
     },
     "metadata": {},
     "output_type": "display_data"
    }
   ],
   "source": [
    "#This part sets the figure size of the plot and plots the average shortest path length for each of the p values.\n",
    "fig = plt.figure(figsize = (15,10))\n",
    "plt.errorbar(pval,psum,pstd,capsize = 5, fmt = 'o-', ecolor = 'black')\n",
    "plt.show()"
   ]
  },
  {
   "cell_type": "markdown",
   "metadata": {},
   "source": [
    "In the above graph it can be seen that if the probability = 0 then there are no standard deviation. This is because there are no links, there is therefor no deviation.\n",
    "\n",
    "The amount of links a graph has varies depending on the probability. A low probability therefore results in a small amount of links.\n",
    "When multiple runs are done with the same probability, the graphs will have a different amount of links. By having a low amount of links the difference between the graphs becomes greater, percentage vise, than it would with a large amount of links.\n",
    "\n",
    "This can also be conducted based on the above graph by having the standard deviation become smaller, when the probability becomes higher.\n"
   ]
  }
 ],
 "metadata": {
  "kernelspec": {
   "display_name": "Python 2",
   "language": "python",
   "name": "python2"
  },
  "language_info": {
   "codemirror_mode": {
    "name": "ipython",
    "version": 2
   },
   "file_extension": ".py",
   "mimetype": "text/x-python",
   "name": "python",
   "nbconvert_exporter": "python",
   "pygments_lexer": "ipython2",
   "version": "2.7.15"
  }
 },
 "nbformat": 4,
 "nbformat_minor": 2
}
