{
 "cells": [
  {
   "cell_type": "markdown",
   "metadata": {},
   "source": [
    "# Exercises"
   ]
  },
  {
   "cell_type": "markdown",
   "metadata": {},
   "source": [
    "## Exercise 1\n",
    "Graphs that I listed:\n",
    "1. The world wide web. Has nodes in form of webpages and links in forms of URLS (links).\n",
    "2. Epidemics. Has nodes in form of vectors and links in form transmissions.\n",
    "3. Social networks. Has nodes in form of individuals and links in form of connections (friend, family etc.)\n",
    "\n",
    "Graph that I am interested in:\n",
    "1. Zombie Epidemic modelled in Canada in form of a virus. Has nodes in form of vectors and links in form transmissions.\n",
    "2. Has nodes as the population size of Canada (35,151,728 nodes of 2016)\n",
    "3. No due to the size of the network\n",
    "4. I learned about zombie epidemiology by a researcher using his work on HIV epidemics to model a possible zombie epidemic, and I found it quite fascinating\n",
    "\n",
    "My view on what would be the area where network science could have the biggest impact in the next decade:\n",
    "- Probably social networks. I think that the area is still new, so the possibility of discovering a high impact discovery is a lot higher in unexplored territory\n",
    "\n",
    "Can you think of a real network where each node has many connections? Is that network still sparse? If yes, can you explain why?\n",
    "- Relatively speaking: A local area network with connections of a few computers. These computers will often be completely connected and thus is not sparse.\n",
    "- Generally speaking: Social networks; people usually has a lot of connections. However it is still sparse, since the graph is nowhere near complete."
   ]
  },
  {
   "cell_type": "markdown",
   "metadata": {},
   "source": [
    "## Exercise 2\n",
    "\n",
    "1. Graph a and d are possible to draw."
   ]
  },
  {
   "cell_type": "code",
   "execution_count": 1,
   "metadata": {
    "collapsed": true
   },
   "outputs": [],
   "source": [
    "import networkx as nx\n",
    "import urllib2\n",
    "import json\n",
    "import matplotlib.pyplot as plt\n",
    "import scipy as sc\n",
    "import numpy as np\n",
    "from __future__ import division"
   ]
  },
  {
   "cell_type": "code",
   "execution_count": 2,
   "metadata": {
    "collapsed": true
   },
   "outputs": [],
   "source": [
    "G = nx.Graph()\n",
    "G.add_nodes_from(list(range(1,7)))\n",
    "G.add_edges_from([(1,2),(1,3),(1,4),(1,6),(2,3),(2,4),(3,6)])\n",
    "H = nx.DiGraph()\n",
    "H.add_nodes_from(list(range(1,7)))\n",
    "H.add_edges_from([(1,2),(3,1),(4,1),(6,1),(2,3),(3,2),(2,4),(6,3)])"
   ]
  },
  {
   "cell_type": "code",
   "execution_count": 3,
   "metadata": {},
   "outputs": [
    {
     "data": {
      "image/png": "[encoded data removed]",
      "text/plain": [
       "<Figure size 432x288 with 2 Axes>"
      ]
     },
     "metadata": {},
     "output_type": "display_data"
    }
   ],
   "source": [
    "plt.subplot(211)\n",
    "nx.draw(G, with_labels=True, font_weight='bold')\n",
    "plt.subplot(212)\n",
    "nx.draw(H, with_labels=True, font_weight='bold')\n",
    "plt.show()"
   ]
  },
  {
   "cell_type": "code",
   "execution_count": 4,
   "metadata": {},
   "outputs": [
    {
     "name": "stdout",
     "output_type": "stream",
     "text": [
      "  (0, 1)\t1\n",
      "  (0, 2)\t1\n",
      "  (0, 3)\t1\n",
      "  (0, 5)\t1\n",
      "  (1, 0)\t1\n",
      "  (1, 2)\t1\n",
      "  (1, 3)\t1\n",
      "  (2, 0)\t1\n",
      "  (2, 1)\t1\n",
      "  (2, 5)\t1\n",
      "  (3, 0)\t1\n",
      "  (3, 1)\t1\n",
      "  (5, 0)\t1\n",
      "  (5, 2)\t1\n",
      "[[0 1 1 1 0 1]\n",
      " [1 0 1 1 0 0]\n",
      " [1 1 0 0 0 1]\n",
      " [1 1 0 0 0 0]\n",
      " [0 0 0 0 0 0]\n",
      " [1 0 1 0 0 0]]\n",
      "  (0, 1)\t1\n",
      "  (1, 2)\t1\n",
      "  (1, 3)\t1\n",
      "  (2, 0)\t1\n",
      "  (2, 1)\t1\n",
      "  (3, 0)\t1\n",
      "  (5, 0)\t1\n",
      "  (5, 2)\t1\n",
      "[[0 1 0 0 0 0]\n",
      " [0 0 1 1 0 0]\n",
      " [1 1 0 0 0 0]\n",
      " [1 0 0 0 0 0]\n",
      " [0 0 0 0 0 0]\n",
      " [1 0 1 0 0 0]]\n"
     ]
    }
   ],
   "source": [
    "A = nx.adjacency_matrix(G)\n",
    "print(A)\n",
    "print(A.todense())\n",
    "B = nx.adjacency_matrix(H)\n",
    "print(B)\n",
    "print(B.todense())"
   ]
  },
  {
   "cell_type": "code",
   "execution_count": 5,
   "metadata": {},
   "outputs": [
    {
     "name": "stdout",
     "output_type": "stream",
     "text": [
      "0.638888888889\n"
     ]
    }
   ],
   "source": [
    "print(nx.average_clustering(G))"
   ]
  },
  {
   "cell_type": "code",
   "execution_count": 6,
   "metadata": {},
   "outputs": [
    {
     "name": "stdout",
     "output_type": "stream",
     "text": [
      "  (0, 1)\t1\n",
      "  (0, 2)\t1\n",
      "  (0, 3)\t1\n",
      "  (0, 4)\t1\n",
      "  (1, 0)\t1\n",
      "  (1, 2)\t1\n",
      "  (1, 3)\t1\n",
      "  (2, 0)\t1\n",
      "  (2, 1)\t1\n",
      "  (2, 4)\t1\n",
      "  (3, 0)\t1\n",
      "  (3, 1)\t1\n",
      "  (4, 0)\t1\n",
      "  (4, 2)\t1\n",
      "[[0 1 1 1 1 0]\n",
      " [1 0 1 1 0 0]\n",
      " [1 1 0 0 1 0]\n",
      " [1 1 0 0 0 0]\n",
      " [1 0 1 0 0 0]\n",
      " [0 0 0 0 0 0]]\n"
     ]
    }
   ],
   "source": [
    "G.remove_edges_from([(1,6),(3,6)])\n",
    "G.add_edges_from([(1,5),(3,5)])\n",
    "A = nx.adjacency_matrix(G)\n",
    "print(A)\n",
    "print(A.todense())"
   ]
  },
  {
   "cell_type": "markdown",
   "metadata": {},
   "source": [
    "Whether or not it is finite and simple. Maybe also undirected but not necesarrily."
   ]
  },
  {
   "cell_type": "code",
   "execution_count": 9,
   "metadata": {},
   "outputs": [
    {
     "name": "stdout",
     "output_type": "stream",
     "text": [
      "[[1, 2, 3], [1, 3], [1, 4, 2, 3], [1, 6, 3]]\n",
      "[[1, 2, 3]]\n"
     ]
    }
   ],
   "source": [
    "G.remove_edges_from([(1,5),(3,5)])\n",
    "G.add_edges_from([(1,6),(3,6)])\n",
    "print list(nx.all_simple_paths(G,1,3))\n",
    "print list(nx.all_simple_paths(H,1,3))"
   ]
  },
  {
   "cell_type": "code",
   "execution_count": 10,
   "metadata": {},
   "outputs": [
    {
     "data": {
      "image/png": "[encoded data removed]",
      "text/plain": [
       "<Figure size 432x288 with 1 Axes>"
      ]
     },
     "metadata": {},
     "output_type": "display_data"
    }
   ],
   "source": [
    "I = nx.Graph()\n",
    "I.add_nodes_from(list(range(1,12)))\n",
    "I.add_edges_from([(1,7),(2,9),(3,7),(3,8),(3,9),(4,9),(4,10),(5,9),(5,11),(6,11)])\n",
    "nx.draw(I, with_labels=True, font_weight='bold')\n",
    "plt.show()"
   ]
  },
  {
   "cell_type": "code",
   "execution_count": 11,
   "metadata": {},
   "outputs": [
    {
     "name": "stdout",
     "output_type": "stream",
     "text": [
      "[[0 0 0 0 0 0 1 0 0 0 0]\n",
      " [0 0 0 0 0 0 0 0 1 0 0]\n",
      " [0 0 0 0 0 0 1 1 1 0 0]\n",
      " [0 0 0 0 0 0 0 0 1 1 0]\n",
      " [0 0 0 0 0 0 0 0 1 0 1]\n",
      " [0 0 0 0 0 0 0 0 0 0 1]\n",
      " [1 0 1 0 0 0 0 0 0 0 0]\n",
      " [0 0 1 0 0 0 0 0 0 0 0]\n",
      " [0 1 1 1 1 0 0 0 0 0 0]\n",
      " [0 0 0 1 0 0 0 0 0 0 0]\n",
      " [0 0 0 0 1 1 0 0 0 0 0]]\n"
     ]
    }
   ],
   "source": [
    "C = nx.adjacency_matrix(I)\n",
    "print(C.todense())"
   ]
  },
  {
   "cell_type": "code",
   "execution_count": 12,
   "metadata": {},
   "outputs": [
    {
     "data": {
      "image/png": "[encoded data removed]",
      "text/plain": [
       "<Figure size 432x288 with 2 Axes>"
      ]
     },
     "metadata": {},
     "output_type": "display_data"
    },
    {
     "name": "stdout",
     "output_type": "stream",
     "text": [
      "[[0 0 1 0 0 0]\n",
      " [0 0 1 1 1 0]\n",
      " [1 1 0 1 1 0]\n",
      " [0 1 1 0 1 0]\n",
      " [0 1 1 1 0 1]\n",
      " [0 0 0 0 1 0]]\n",
      "[[0 1 0 0 1]\n",
      " [1 0 1 1 1]\n",
      " [0 1 0 0 0]\n",
      " [0 1 0 0 0]\n",
      " [1 1 0 0 0]]\n"
     ]
    }
   ],
   "source": [
    "J = nx.projected_graph(I,list(range(1,7)))\n",
    "plt.subplot(211)\n",
    "nx.draw(J, with_labels=True, font_weight='bold')\n",
    "K = nx.projected_graph(I,list(range(7,12)))\n",
    "plt.subplot(212)\n",
    "nx.draw(K, with_labels=True, font_weight='bold')\n",
    "plt.show()\n",
    "D = nx.adjacency_matrix(J)\n",
    "print(D.todense())\n",
    "E = nx.adjacency_matrix(K)\n",
    "print(E.todense())"
   ]
  },
  {
   "cell_type": "code",
   "execution_count": 13,
   "metadata": {},
   "outputs": [
    {
     "name": "stdout",
     "output_type": "stream",
     "text": [
      "1.81818181818\n",
      "1.81818181818\n"
     ]
    }
   ],
   "source": [
    "print 2*len(I.edges(list(range(1,7))))/len(I.nodes(list(range(1,7))))\n",
    "print 2*len(I.edges(list(range(7,12))))/len(I.nodes(list(range(7,12))))"
   ]
  },
  {
   "cell_type": "code",
   "execution_count": 14,
   "metadata": {},
   "outputs": [
    {
     "name": "stdout",
     "output_type": "stream",
     "text": [
      "2.66666666667\n",
      "2.0\n"
     ]
    }
   ],
   "source": [
    "print 2*J.number_of_edges()/J.number_of_nodes()\n",
    "print 2*K.number_of_edges()/K.number_of_nodes()"
   ]
  },
  {
   "cell_type": "markdown",
   "metadata": {},
   "source": [
    "## Exercise 3"
   ]
  },
  {
   "cell_type": "code",
   "execution_count": 15,
   "metadata": {
    "collapsed": true
   },
   "outputs": [],
   "source": [
    "import random"
   ]
  },
  {
   "cell_type": "code",
   "execution_count": 67,
   "metadata": {},
   "outputs": [
    {
     "data": {
      "image/png": "[encoded data removed]",
      "text/plain": [
       "<Figure size 432x288 with 1 Axes>"
      ]
     },
     "metadata": {
      "needs_background": "light"
     },
     "output_type": "display_data"
    }
   ],
   "source": [
    "Randoms = [random.gauss(2,0.125) for i in range(5000)]\n",
    "hist = np.histogram(Randoms,bins=10)\n",
    "tempbins = hist[1]\n",
    "news = hist[1][:-1]\n",
    "bins = [(tempbins[int(i)]+tempbins[int(i+1)])/2 for i in range(10)]\n",
    "plt.ylim(0,2000)\n",
    "plt.bar(bins,hist[0],align='center')\n",
    "plt.show()"
   ]
  },
  {
   "cell_type": "code",
   "execution_count": 73,
   "metadata": {},
   "outputs": [
    {
     "name": "stdout",
     "output_type": "stream",
     "text": [
      "True\n",
      "True\n"
     ]
    },
    {
     "data": {
      "image/png": "[encoded data removed]",
      "text/plain": [
       "<Figure size 432x288 with 1 Axes>"
      ]
     },
     "metadata": {
      "needs_background": "light"
     },
     "output_type": "display_data"
    }
   ],
   "source": [
    "RanPoiss = [np.random.poisson(lam=10) for i in range(5000)]\n",
    "itera = list(range(min(RanPoiss)-1,max(RanPoiss)+1))\n",
    "newitera = [x+0.5 for x in itera]\n",
    "hist = np.histogram(RanPoiss,bins=newitera)\n",
    "print max(RanPoiss) == max(hist[1])-0.5\n",
    "print min(RanPoiss) == min(hist[1])+0.5\n",
    "plt.bar(list(range(min(RanPoiss),max(RanPoiss)+1)),hist[0],align='center')\n",
    "plt.show()"
   ]
  },
  {
   "cell_type": "code",
   "execution_count": 74,
   "metadata": {
    "collapsed": true
   },
   "outputs": [],
   "source": [
    "G=nx.erdos_renyi_graph(5000,10/(5000-1))"
   ]
  },
  {
   "cell_type": "code",
   "execution_count": 79,
   "metadata": {},
   "outputs": [
    {
     "data": {
      "image/png": "[encoded data removed]",
      "text/plain": [
       "<Figure size 432x288 with 1 Axes>"
      ]
     },
     "metadata": {
      "needs_background": "light"
     },
     "output_type": "display_data"
    }
   ],
   "source": [
    "degree_sequence = [d for n, d in G.degree()]  # degree sequence\n",
    "itera = list(range(min(degree_sequence)-1,max(degree_sequence)+1))\n",
    "newitera = [x+0.5 for x in itera]\n",
    "hist = np.histogram(degree_sequence,bins=newitera)\n",
    "plt.bar(list(range(min(degree_sequence),max(degree_sequence)+1)),hist[0],align='center')\n",
    "plt.show()"
   ]
  },
  {
   "cell_type": "markdown",
   "metadata": {},
   "source": [
    "## Exercise 4"
   ]
  },
  {
   "cell_type": "markdown",
   "metadata": {},
   "source": [
    "What is the expected number of links?\n",
    "- $\\frac{pN(N−1)}{2}$ which is 4499\n",
    "\n",
    "In which regime is the network?\n",
    "- Subcritical regime\n",
    "\n",
    "Calculate the probability $p_c$ so that the network is at the critical point\n",
    "- 3.3344E-04\n",
    "\n",
    "Given the linking probability p = 10–3, calculate the number of nodes Ncr so that the network has only one component.\n",
    "- 9119 nodes (e.g. is in the connected regime)\n",
    "\n",
    "For the network in (d), calculate the average degree 〈kcr〉 and the average distance between two randomly chosen nodes 〈d〉.\n",
    "- 〈kcr〉is 9.118115427933665 and 〈d〉is 4.12535288606634\n",
    "\n",
    "Calculate the degree distribution pk of this network (approximate with a Poisson degree distribution).\n",
    "- pk is 0.12004404157361075"
   ]
  },
  {
   "cell_type": "code",
   "execution_count": 104,
   "metadata": {
    "collapsed": true
   },
   "outputs": [],
   "source": [
    "p=1.5/(200-1)"
   ]
  },
  {
   "cell_type": "code",
   "execution_count": 115,
   "metadata": {
    "collapsed": true
   },
   "outputs": [],
   "source": [
    "G = nx.fast_gnp_random_graph(200,p)"
   ]
  },
  {
   "cell_type": "code",
   "execution_count": 144,
   "metadata": {},
   "outputs": [
    {
     "data": {
      "image/png": "[encoded data removed]",
      "text/plain": [
       "<Figure size 432x288 with 1 Axes>"
      ]
     },
     "metadata": {
      "needs_background": "light"
     },
     "output_type": "display_data"
    }
   ],
   "source": [
    "nx.draw_networkx(G,edgelist=G.edges(),node_size=5,with_labels=False,node_color=\"#58D3F7\")\n",
    "plt.show()"
   ]
  },
  {
   "cell_type": "code",
   "execution_count": 132,
   "metadata": {
    "collapsed": true
   },
   "outputs": [],
   "source": [
    "main_component=list(list(nx.connected_component_subgraphs(G))[0])"
   ]
  },
  {
   "cell_type": "code",
   "execution_count": 134,
   "metadata": {
    "collapsed": true
   },
   "outputs": [],
   "source": [
    "choice=random.choice(main_component)"
   ]
  },
  {
   "cell_type": "code",
   "execution_count": 146,
   "metadata": {
    "collapsed": true
   },
   "outputs": [],
   "source": [
    "newdict = nx.single_source_shortest_path_length(G,choice)"
   ]
  },
  {
   "cell_type": "code",
   "execution_count": 153,
   "metadata": {
    "collapsed": true
   },
   "outputs": [],
   "source": [
    "for keys,i in newdict.iteritems():\n",
    "    if i==2:\n",
    "        print keys"
   ]
  },
  {
   "cell_type": "code",
   "execution_count": null,
   "metadata": {
    "collapsed": true
   },
   "outputs": [],
   "source": [
    "newdict = nx.single_source_shortest_path_length(G,0)"
   ]
  },
  {
   "cell_type": "code",
   "execution_count": 171,
   "metadata": {
    "collapsed": true
   },
   "outputs": [],
   "source": [
    "newlist = [\"#A0CBE2\" for i in range(len(list(G.nodes())))]\n",
    "newlist2 = [5 for i in range(len(list(G.nodes())))]\n",
    "\n",
    "for keys,i in newdict.iteritems():\n",
    "    newlist[int(keys)] = \"#58FA82\"\n",
    "    newlist2[int(keys)] = 15\n",
    "    if i==2:\n",
    "        newlist[int(keys)] = \"#ff0000\"\n",
    "        newlist2[int(keys)] = 50\n",
    "newlist[0] = \"#000000\"\n",
    "newlist2[0] = 100"
   ]
  },
  {
   "cell_type": "code",
   "execution_count": 174,
   "metadata": {},
   "outputs": [
    {
     "data": {
      "image/png": "[encoded data removed]",
      "text/plain": [
       "<Figure size 432x288 with 1 Axes>"
      ]
     },
     "metadata": {
      "needs_background": "light"
     },
     "output_type": "display_data"
    }
   ],
   "source": [
    "nx.draw_networkx(G,edgelist=G.edges(),node_size=newlist2,with_labels=False,node_color=newlist)\n",
    "plt.show()"
   ]
  },
  {
   "cell_type": "code",
   "execution_count": null,
   "metadata": {
    "collapsed": true
   },
   "outputs": [],
   "source": []
  }
 ],
 "metadata": {
  "kernelspec": {
   "display_name": "Python 2",
   "language": "python",
   "name": "python2"
  },
  "language_info": {
   "codemirror_mode": {
    "name": "ipython",
    "version": 2
   },
   "file_extension": ".py",
   "mimetype": "text/x-python",
   "name": "python",
   "nbconvert_exporter": "python",
   "pygments_lexer": "ipython2",
   "version": "2.7.15"
  }
 },
 "nbformat": 4,
 "nbformat_minor": 2
}
